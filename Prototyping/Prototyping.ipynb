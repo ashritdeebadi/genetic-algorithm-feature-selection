{
 "cells": [
  {
   "cell_type": "code",
   "execution_count": 157,
   "metadata": {},
   "outputs": [],
   "source": [
    "from sklearn import svm\n",
    "from sklearn.metrics import mean_squared_error\n",
    "from sklearn import model_selection\n",
    "import pandas as pd\n",
    "import random\n",
    "random.seed(42)\n",
    "pd.options.display.max_rows = 999"
   ]
  },
  {
   "cell_type": "code",
   "execution_count": 396,
   "metadata": {},
   "outputs": [],
   "source": [
    "def fitness(individual, train_set, test_set):\n",
    "    \"\"\"Function that outputs the error rate given a train and \n",
    "    test set.\n",
    "    \n",
    "    The function takes an individual, a train set, and a test \n",
    "    set. The individual is comprised of a list of len(train_set)\n",
    "    that contains either 0 or 1. 0 or 1 corresponds to whether \n",
    "    that specific column should be used. The train set and test \n",
    "    set are used to fit and predict the values in the test set\n",
    "    \n",
    "    Args:\n",
    "        individual (list(int)): The specific individual thats a list comprised of 1s or 0s\n",
    "        train_set (pd.DataFrame): The dataframe containg the test set\n",
    "        test_set (pd.DataFrame): The dataframe contain the train set\n",
    "        \n",
    "    Returns:\n",
    "        double: The error rate give the columns passed by the individual\n",
    "        \n",
    "    Example:\n",
    "        >>>> individual = [ra]\n",
    "    \"\"\"\n",
    "    \n",
    "    bool_individual = list(map(bool,individual))\n",
    "    bool_df = pd.DataFrame({'a':bool_individual})\n",
    "    \n",
    "    X_train, y_train = train_set\n",
    "    X_test, y_test = test_set\n",
    "    \n",
    "    X_train = X_train[X_train.columns[bool_individual]]\n",
    "    X_test = X_test[X_test.columns[bool_individual]]\n",
    "    \n",
    "    if len(X_train.columns) == 0:    \n",
    "        return 1.0\n",
    "    \n",
    "    clf = svm.SVC(gamma='scale')\n",
    "    clf.fit(X_train, y_train)\n",
    "    y_pred = clf.predict(X_test)\n",
    "    error = mean_squared_error(y_true=y_test, y_pred=y_pred)\n",
    "    \n",
    "    return error"
   ]
  },
  {
   "cell_type": "code",
   "execution_count": 401,
   "metadata": {},
   "outputs": [
    {
     "data": {
      "text/plain": [
       "0.26666666666666666"
      ]
     },
     "execution_count": 401,
     "metadata": {},
     "output_type": "execute_result"
    }
   ],
   "source": [
    "train_set = pd.read_csv('BRAF_train_moe_class.csv').drop('PUBCHEM_COORDINATE_TYPE', axis=1)\n",
    "test_set = pd.read_csv('BRAF_test_moe_class.csv').drop('PUBCHEM_COORDINATE_TYPE', axis=1)\n",
    "\n",
    "train_set = train_set.dropna(axis=0)\n",
    "test_set = test_set.dropna(axis=0)\n",
    "\n",
    "y_train = train_set['class']\n",
    "X_train = train_set.drop(['class'], axis=1)\n",
    "\n",
    "y_test = test_set['class']\n",
    "X_test = test_set.drop(['class'], axis=1)\n",
    "\n",
    "individual = [random.randint(0, 1) for x in range(len(X_train.columns))]\n",
    "\n",
    "fitness(individual, (X_train, y_train), (X_test, y_test))"
   ]
  },
  {
   "cell_type": "code",
   "execution_count": 49,
   "metadata": {},
   "outputs": [],
   "source": []
  },
  {
   "cell_type": "code",
   "execution_count": 50,
   "metadata": {},
   "outputs": [
    {
     "data": {
      "text/plain": [
       "0.1"
      ]
     },
     "execution_count": 50,
     "metadata": {},
     "output_type": "execute_result"
    }
   ],
   "source": []
  },
  {
   "cell_type": "code",
   "execution_count": null,
   "metadata": {},
   "outputs": [],
   "source": []
  }
 ],
 "metadata": {
  "kernelspec": {
   "display_name": "Python 3",
   "language": "python",
   "name": "python3"
  },
  "language_info": {
   "codemirror_mode": {
    "name": "ipython",
    "version": 3
   },
   "file_extension": ".py",
   "mimetype": "text/x-python",
   "name": "python",
   "nbconvert_exporter": "python",
   "pygments_lexer": "ipython3",
   "version": "3.7.0"
  }
 },
 "nbformat": 4,
 "nbformat_minor": 2
}
